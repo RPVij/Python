{
 "cells": [
  {
   "cell_type": "markdown",
   "metadata": {
    "id": "JRdjdmztDelX"
   },
   "source": [
    "## <u>While doing this assignment only use those concepts which have been taught till now</u>"
   ]
  },
  {
   "cell_type": "markdown",
   "metadata": {
    "id": "8ECk3jeWDelY"
   },
   "source": [
    "## <u>Problem 1</u>\n",
    "\n",
    "In a cricket tournament, based on the outcome of a particular match a team gets following points:\n",
    "* <code>wins</code> gets <code>3</code> points\n",
    "* <code>draws</code> gets <code>1</code> points\n",
    "* <code>losses</code> gets <code>0</code> points\n",
    "\n",
    "Team Aravali plays <code>8</code> matches in this tournament. It wins <code>4</code> matches, loses <code>3</code> matches and draws <code>1</code>. What is the total number of points gained by the Team Aravali?"
   ]
  },
  {
   "cell_type": "code",
   "execution_count": 37,
   "metadata": {
    "id": "m68YV3OhDelZ"
   },
   "outputs": [],
   "source": [
    "# The outcome variables are defined below\n",
    "wins = 4\n",
    "losses = 3\n",
    "draws = 1"
   ]
  },
  {
   "cell_type": "code",
   "execution_count": 38,
   "metadata": {
    "id": "2cnTsWvODelc"
   },
   "outputs": [],
   "source": [
    "# Calculate the total points gained by Team Aravali\n",
    "aravali_points = wins*3 + losses*0 +draws*1"
   ]
  },
  {
   "cell_type": "code",
   "execution_count": 39,
   "metadata": {
    "id": "4ccas7cPDelf"
   },
   "outputs": [
    {
     "name": "stdout",
     "output_type": "stream",
     "text": [
      "13\n"
     ]
    }
   ],
   "source": [
    "# Print the variable aravali_points\n",
    "print(aravali_points)"
   ]
  },
  {
   "cell_type": "markdown",
   "metadata": {
    "id": "-ioInfYKDelh"
   },
   "source": [
    "## <u>Problem 2 </u>\n",
    "\n",
    "* Root of a function $f(x)$ is defined as the value $x$ where $f(x)=0$\n",
    "* Consider a quadratic function $ f(x) = x^2 + 3x - 4$\n",
    "\n",
    "### Find the value of the function $f(x)$ at points   $x=2,x=-1, x=1$."
   ]
  },
  {
   "cell_type": "code",
   "execution_count": 40,
   "metadata": {
    "id": "4_HZwes5Delh"
   },
   "outputs": [],
   "source": [
    "# Calculate the value of the function f(x) at x = 2\n",
    "func_evaluated_at_2 = 2**2 + 3*2 - 4"
   ]
  },
  {
   "cell_type": "code",
   "execution_count": 41,
   "metadata": {},
   "outputs": [
    {
     "name": "stdout",
     "output_type": "stream",
     "text": [
      "6\n"
     ]
    }
   ],
   "source": [
    "# Print the value below\n",
    "print(func_evaluated_at_2)"
   ]
  },
  {
   "cell_type": "code",
   "execution_count": 42,
   "metadata": {
    "id": "uD4MAyKIDelo"
   },
   "outputs": [],
   "source": [
    "# Calculate the value of the function f(x) at x = -1\n",
    "func_evaluated_at_minus1 = (-1)**2 + 3*(-1) -4"
   ]
  },
  {
   "cell_type": "code",
   "execution_count": 43,
   "metadata": {
    "id": "Jx9WVMQ2Delq"
   },
   "outputs": [
    {
     "name": "stdout",
     "output_type": "stream",
     "text": [
      "-6\n"
     ]
    }
   ],
   "source": [
    "# Print the value below\n",
    "print(func_evaluated_at_minus1)"
   ]
  },
  {
   "cell_type": "code",
   "execution_count": 44,
   "metadata": {
    "id": "h8PgF85VDelu"
   },
   "outputs": [],
   "source": [
    "# Calculate the value of the function f(x) at x = 1\n",
    "func_evaluated_at_1 = 1**2 + 3*1 - 4"
   ]
  },
  {
   "cell_type": "code",
   "execution_count": 45,
   "metadata": {
    "id": "BdrFgug6Delw"
   },
   "outputs": [
    {
     "name": "stdout",
     "output_type": "stream",
     "text": [
      "0\n"
     ]
    }
   ],
   "source": [
    "# Print the type of the variable below\n",
    "print(func_evaluated_at_1)"
   ]
  },
  {
   "cell_type": "markdown",
   "metadata": {
    "id": "EvldlcwqDelz"
   },
   "source": [
    "### Return the boolean for each value of $x$ to find out whether that value is a root of $f(x)$"
   ]
  },
  {
   "cell_type": "code",
   "execution_count": 46,
   "metadata": {
    "id": "-tUSAgzgDel0"
   },
   "outputs": [
    {
     "data": {
      "text/plain": [
       "False"
      ]
     },
     "execution_count": 46,
     "metadata": {},
     "output_type": "execute_result"
    }
   ],
   "source": [
    "# Check whether 2 is a root of f(x)\n",
    "func_evaluated_at_2 == 0"
   ]
  },
  {
   "cell_type": "code",
   "execution_count": 47,
   "metadata": {
    "id": "gsNS4Ki4Del2"
   },
   "outputs": [
    {
     "data": {
      "text/plain": [
       "False"
      ]
     },
     "execution_count": 47,
     "metadata": {},
     "output_type": "execute_result"
    }
   ],
   "source": [
    "# Check whether -1 is a root of f(x)\n",
    "func_evaluated_at_minus1 == 0"
   ]
  },
  {
   "cell_type": "code",
   "execution_count": 48,
   "metadata": {
    "id": "yExDY-ZXDel4"
   },
   "outputs": [
    {
     "data": {
      "text/plain": [
       "True"
      ]
     },
     "execution_count": 48,
     "metadata": {},
     "output_type": "execute_result"
    }
   ],
   "source": [
    "# Check whether 1 is a root of f(x)\n",
    "func_evaluated_at_1 == 0"
   ]
  },
  {
   "cell_type": "markdown",
   "metadata": {
    "id": "tNAI2AHRDel6"
   },
   "source": [
    "## <u> Problem 3 </u>\n",
    "\n",
    "A bag contains <code>45</code> apples, <code>65</code> oranges and <code>30</code> bananas. Find the percentage of each type of food items in the bag."
   ]
  },
  {
   "cell_type": "code",
   "execution_count": 49,
   "metadata": {},
   "outputs": [],
   "source": [
    "apples = 45\n",
    "oranges = 65\n",
    "bananas = 30\n",
    "total_fruits = apple + oranges + bananas"
   ]
  },
  {
   "cell_type": "code",
   "execution_count": 50,
   "metadata": {
    "id": "XJ9Rq4P3Del7"
   },
   "outputs": [
    {
     "name": "stdout",
     "output_type": "stream",
     "text": [
      "32.142857142857146\n"
     ]
    }
   ],
   "source": [
    "# Calculate the percentage of apples and print the variable\n",
    "apple_per = (apples/total_fruits)*100\n",
    "print(apple_per)"
   ]
  },
  {
   "cell_type": "code",
   "execution_count": 51,
   "metadata": {
    "id": "S6lJZtaXDel9"
   },
   "outputs": [
    {
     "name": "stdout",
     "output_type": "stream",
     "text": [
      "46.42857142857143\n"
     ]
    }
   ],
   "source": [
    "# Calculate the percentage of oranges and print the variable\n",
    "orange_per = (oranges/total_fruits)*100\n",
    "print(orange_per)"
   ]
  },
  {
   "cell_type": "code",
   "execution_count": 52,
   "metadata": {
    "id": "mHzMnSZrDemB"
   },
   "outputs": [
    {
     "name": "stdout",
     "output_type": "stream",
     "text": [
      "21.428571428571427\n"
     ]
    }
   ],
   "source": [
    "# Calculate the percentage of bananas and print the variable\n",
    "bananas_per = (bananas/total_fruits)*100\n",
    "print(bananas_per)"
   ]
  },
  {
   "cell_type": "markdown",
   "metadata": {
    "id": "F44LczfzDemD"
   },
   "source": [
    "## <u>Problem 4</u>\n",
    "\n",
    "You were playing a fun guessing game during your school break. There were a total of 100 participants excluding you. Out of these 100 people, 30 were Maths Majors, 45 were Economics Majors and 25 were Physics Majors.\n",
    "\n",
    "The game was divided into three rounds.\n",
    "\n",
    "* In the first round, you had to guess the number of Maths Majors and you <b>correctly</b> guessed 20 of them.\n",
    "* In the second round, you had to guess the number of Economics Majors and you <b>correctly</b> guessed 30 of them.\n",
    "* In the final third round, you had to guess the number of Physics Majors and you <b>correctly</b> guessed 20 of them.\n",
    "\n",
    "### Accuracy is defined as the number of correct guesses upon total number of people in the group (expressed in percentage)"
   ]
  },
  {
   "cell_type": "markdown",
   "metadata": {
    "id": "lkGEV_zpDemE"
   },
   "source": [
    "* ### Define your variables"
   ]
  },
  {
   "cell_type": "code",
   "execution_count": 53,
   "metadata": {
    "id": "OfXY9LcVDemF"
   },
   "outputs": [],
   "source": [
    "# Store the number of Maths majors\n",
    "math_major = 30\n",
    "\n",
    "# Store the number of Economics majors\n",
    "eco_major = 45\n",
    "\n",
    "# Store the number of Physics majors\n",
    "phy_major = 25\n",
    "\n",
    "# Store the number of your correct guesses of Maths majors\n",
    "math_major_cor_guess = 20\n",
    "\n",
    "# Store the number of your correct guesses of Economics majors\n",
    "eco_major_cor_guess = 30\n",
    "\n",
    "# Store the number of your correct guesses of Physics majors\n",
    "phy_major_cor_guess = 20"
   ]
  },
  {
   "cell_type": "markdown",
   "metadata": {
    "id": "Eg_Or6GmDemI"
   },
   "source": [
    "* ### Calculate your accuracy in each of the three rounds"
   ]
  },
  {
   "cell_type": "code",
   "execution_count": 54,
   "metadata": {
    "id": "QUbDKOR3DemJ"
   },
   "outputs": [
    {
     "name": "stdout",
     "output_type": "stream",
     "text": [
      "66.66666666666666\n"
     ]
    }
   ],
   "source": [
    "# Print the Maths accuracy\n",
    "math_acc = (math_major_cor_guess/math_major)*100\n",
    "print(math_acc)"
   ]
  },
  {
   "cell_type": "code",
   "execution_count": 55,
   "metadata": {
    "id": "PfX4DowhDemM"
   },
   "outputs": [
    {
     "name": "stdout",
     "output_type": "stream",
     "text": [
      "66.66666666666666\n"
     ]
    }
   ],
   "source": [
    "# Print the Economics accuracy\n",
    "eco_acc = (eco_major_cor_guess/eco_major)*100\n",
    "print(eco_acc)"
   ]
  },
  {
   "cell_type": "code",
   "execution_count": 56,
   "metadata": {
    "id": "ZV-hzGKCDemP"
   },
   "outputs": [
    {
     "name": "stdout",
     "output_type": "stream",
     "text": [
      "80.0\n"
     ]
    }
   ],
   "source": [
    "# Print the Physics accuracy\n",
    "phy_acc = (phy_major_cor_guess/phy_major)*100\n",
    "print(phy_acc)"
   ]
  },
  {
   "cell_type": "markdown",
   "metadata": {
    "id": "FvKZonnwDemS"
   },
   "source": [
    "* ### Calculate your overall accuracy in the entire game"
   ]
  },
  {
   "cell_type": "code",
   "execution_count": 57,
   "metadata": {
    "id": "eP3JkusLDemT"
   },
   "outputs": [
    {
     "name": "stdout",
     "output_type": "stream",
     "text": [
      "70.0\n"
     ]
    }
   ],
   "source": [
    "# Print the overall accuracy\n",
    "total_acc = (math_major_cor_guess+eco_major_cor_guess+phy_major_cor_guess)/(math_major+eco_major+phy_major)*100\n",
    "print(total_acc)"
   ]
  },
  {
   "cell_type": "code",
   "execution_count": null,
   "metadata": {},
   "outputs": [],
   "source": []
  }
 ],
 "metadata": {
  "colab": {
   "provenance": []
  },
  "kernelspec": {
   "display_name": "Python 3 (ipykernel)",
   "language": "python",
   "name": "python3"
  },
  "language_info": {
   "codemirror_mode": {
    "name": "ipython",
    "version": 3
   },
   "file_extension": ".py",
   "mimetype": "text/x-python",
   "name": "python",
   "nbconvert_exporter": "python",
   "pygments_lexer": "ipython3",
   "version": "3.10.3"
  }
 },
 "nbformat": 4,
 "nbformat_minor": 4
}
